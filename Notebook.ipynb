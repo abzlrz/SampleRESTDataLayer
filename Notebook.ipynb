{
 "cells": [
  {
   "cell_type": "code",
   "execution_count": 21,
   "id": "a7cf10fc-78ec-49cc-94b7-7ad50cce8637",
   "metadata": {},
   "outputs": [],
   "source": [
    "import os\n",
    "import psycopg2\n",
    "import pandas as pd"
   ]
  },
  {
   "cell_type": "code",
   "execution_count": 3,
   "id": "e53b25da-cc1b-4760-b202-fc7d720811e7",
   "metadata": {},
   "outputs": [],
   "source": [
    "DB_HOST = os.environ.get(\"DB_HOST\", \"localhost\")  # Default to 'localhost' if not set\n",
    "DB_NAME = os.environ.get(\"DB_NAME\", \"booking_db\")\n",
    "DB_USER = os.environ.get(\"DB_USER\", \"postgres\")\n",
    "DB_PASSWORD = os.environ.get(\"DB_PASSWORD\", \"admin\")\n",
    "\n",
    "# PostgreSQL Database Connection\n",
    "def get_db_connection():\n",
    "    return psycopg2.connect(\n",
    "        host=DB_HOST,\n",
    "        database=DB_NAME,\n",
    "        user=DB_USER,\n",
    "        password=DB_PASSWORD\n",
    "    )"
   ]
  },
  {
   "cell_type": "code",
   "execution_count": 5,
   "id": "c5d9ec4f-a8b1-411e-bca4-dd3e4e62a2cd",
   "metadata": {},
   "outputs": [],
   "source": [
    "def test_db_connection():\n",
    "    try:\n",
    "        conn = get_db_connection()  # Attempt to connect\n",
    "        print(\"Connection successful!\")\n",
    "        \n",
    "        # Execute a simple query\n",
    "        with conn.cursor() as cursor:\n",
    "            cursor.execute(\"SELECT version();\")  # Query to get PostgreSQL version\n",
    "            db_version = cursor.fetchone()\n",
    "            print(\"Database Version:\", db_version)\n",
    "        \n",
    "        conn.close()  # Always close the connection\n",
    "        print(\"Connection closed successfully.\")\n",
    "    except OperationalError as e:\n",
    "        print(\"Error while connecting to the database:\", e)\n",
    "    except Exception as ex:\n",
    "        print(\"An unexpected error occurred:\", ex)"
   ]
  },
  {
   "cell_type": "code",
   "execution_count": 6,
   "id": "cde2094c-0f23-4777-a3aa-07ca3c753d0e",
   "metadata": {},
   "outputs": [
    {
     "name": "stdout",
     "output_type": "stream",
     "text": [
      "Connection successful!\n",
      "Database Version: ('PostgreSQL 17.2 on x86_64-windows, compiled by msvc-19.42.34433, 64-bit',)\n",
      "Connection closed successfully.\n"
     ]
    }
   ],
   "source": [
    "test_db_connection()"
   ]
  },
  {
   "cell_type": "code",
   "execution_count": 10,
   "id": "3c32f0cf-aeb4-4fb8-8628-10fd2839842e",
   "metadata": {},
   "outputs": [
    {
     "name": "stdout",
     "output_type": "stream",
     "text": [
      "Status Code: 200\n",
      "Response Body: {'description': 'Block 6 Lot 26, Project 8, Quezon City', 'name': 'Welding Machine', 'ppu': '24000', 'status': 'active', 'uom': 'unit'}\n"
     ]
    }
   ],
   "source": [
    "import requests\n",
    "\n",
    "url = \"http://localhost:5000/api/item\"\n",
    "data = {\n",
    "    \"name\": \"Welding Machine\",\n",
    "    \"description\": \"Welding Machine, CAT Brand\",\n",
    "    \"location\": \"Block 6 Lot 26, Project 8, Quezon City\",\n",
    "    \"ppu\": \"24000\",\n",
    "    \"uom\": \"unit\"\n",
    "}\n",
    "\n",
    "response = requests.post(url, json=data)\n",
    "\n",
    "print(\"Status Code:\", response.status_code)\n",
    "print(\"Response Body:\", response.json())"
   ]
  },
  {
   "cell_type": "code",
   "execution_count": 38,
   "id": "aeae8424-80fb-4adb-b1d6-59e23424f6d8",
   "metadata": {},
   "outputs": [
    {
     "name": "stdout",
     "output_type": "stream",
     "text": [
      "<class 'pandas.core.frame.DataFrame'>\n",
      "RangeIndex: 10 entries, 0 to 9\n",
      "Data columns (total 5 columns):\n",
      " #   Column       Non-Null Count  Dtype  \n",
      "---  ------       --------------  -----  \n",
      " 0   name         10 non-null     object \n",
      " 1   description  10 non-null     object \n",
      " 2   location     10 non-null     object \n",
      " 3   ppu          10 non-null     float64\n",
      " 4   uom          10 non-null     object \n",
      "dtypes: float64(1), object(4)\n",
      "memory usage: 532.0+ bytes\n"
     ]
    }
   ],
   "source": [
    "df = pd.read_csv(\"sample_item_list.csv\")\n",
    "df[\"ppu\"] = df[\"ppu\"].astype(float)\n",
    "\n",
    "df.info()"
   ]
  },
  {
   "cell_type": "code",
   "execution_count": 40,
   "id": "cce28a44-d60a-4cf5-b4d9-9122ecc26be7",
   "metadata": {},
   "outputs": [
    {
     "name": "stdout",
     "output_type": "stream",
     "text": [
      "Status Code: 200\n",
      "Response Body: {'description': '123 Juan Luna St., Binondo, Manila', 'name': 'Wooden Chair', 'ppu': 2500.0, 'status': 'active', 'uom': 'piece'}\n",
      "Status Code: 200\n",
      "Response Body: {'description': '456 Taft Avenue, Ermita, Manila', 'name': 'Water Bottle', 'ppu': 750.0, 'status': 'active', 'uom': 'unit'}\n",
      "Status Code: 200\n",
      "Response Body: {'description': '789 Recto Ave., Quiapo, Manila', 'name': 'Cotton Bedsheet Set', 'ppu': 1200.0, 'status': 'active', 'uom': 'set'}\n",
      "Status Code: 200\n",
      "Response Body: {'description': '234 Roxas Blvd., Malate, Manila', 'name': 'LED Desk Lamp', 'ppu': 650.0, 'status': 'active', 'uom': 'piece'}\n",
      "Status Code: 200\n",
      "Response Body: {'description': '567 P. Burgos St., Intramuros, Manila', 'name': 'Cleaning Spray', 'ppu': 150.0, 'status': 'active', 'uom': 'bottle'}\n",
      "Status Code: 200\n",
      "Response Body: {'description': '890 M.H. Del Pilar St., Malate, Manila', 'name': 'A4 Printing Paper', 'ppu': 400.0, 'status': 'active', 'uom': 'pack'}\n",
      "Status Code: 200\n",
      "Response Body: {'description': '345 Pedro Gil St., Paco, Manila', 'name': 'Wireless Keyboard', 'ppu': 1800.0, 'status': 'active', 'uom': 'unit'}\n",
      "Status Code: 200\n",
      "Response Body: {'description': '678 Kalaw Ave., Ermita, Manila', 'name': 'Headphones', 'ppu': 4500.0, 'status': 'active', 'uom': 'unit'}\n",
      "Status Code: 200\n",
      "Response Body: {'description': '123 Natividad St., Sampaloc, Manila', 'name': 'Office Chair', 'ppu': 7500.0, 'status': 'active', 'uom': 'piece'}\n",
      "Status Code: 200\n",
      "Response Body: {'description': '456 P. Noval St., Sampaloc, Manila', 'name': 'Silicone Food Bags', 'ppu': 500.0, 'status': 'active', 'uom': 'set'}\n"
     ]
    }
   ],
   "source": [
    "for _, row in df.iterrows():\n",
    "    row_data = row.to_dict()\n",
    "\n",
    "    response = requests.post(url, json=row_data)\n",
    "\n",
    "    print(\"Status Code:\", response.status_code)\n",
    "    print(\"Response Body:\", response.json())"
   ]
  }
 ],
 "metadata": {
  "kernelspec": {
   "display_name": "Python 3 (ipykernel)",
   "language": "python",
   "name": "python3"
  },
  "language_info": {
   "codemirror_mode": {
    "name": "ipython",
    "version": 3
   },
   "file_extension": ".py",
   "mimetype": "text/x-python",
   "name": "python",
   "nbconvert_exporter": "python",
   "pygments_lexer": "ipython3",
   "version": "3.12.8"
  }
 },
 "nbformat": 4,
 "nbformat_minor": 5
}
